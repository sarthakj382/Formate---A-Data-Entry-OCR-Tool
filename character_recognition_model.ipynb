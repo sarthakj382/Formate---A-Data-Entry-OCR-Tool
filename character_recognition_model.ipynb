{
  "nbformat": 4,
  "nbformat_minor": 0,
  "metadata": {
    "colab": {
      "name": "character-recognition-model.ipynb",
      "provenance": [],
      "collapsed_sections": []
    },
    "kernelspec": {
      "name": "python3",
      "display_name": "Python 3"
    },
    "language_info": {
      "name": "python"
    },
    "accelerator": "GPU"
  },
  "cells": [
    {
      "cell_type": "code",
      "metadata": {
        "id": "RSf3XZ1fKoxj"
      },
      "source": [
        "import numpy as np\n",
        "import pandas as pd\n",
        "from google.colab import files\n",
        "from keras.preprocessing.image import ImageDataGenerator\n",
        "import os\n",
        "import cv2\n",
        "import imutils\n",
        "import random\n",
        "import matplotlib.pyplot as plt\n",
        "import seaborn as sns\n",
        "from sklearn.preprocessing import LabelBinarizer\n",
        "from sklearn.model_selection import train_test_split\n",
        "from keras.utils import np_utils\n",
        "from keras.models import Sequential,load_model\n",
        "from keras import optimizers\n",
        "from keras import backend as K\n",
        "from keras.layers import Dense, Activation, Flatten, Dense,MaxPooling2D, Dropout\n",
        "from keras.layers import Conv2D, MaxPooling2D, BatchNormalization\n",
        "from tensorflow.keras.callbacks import EarlyStopping, ReduceLROnPlateau, ModelCheckpoint\n",
        "from joblib import dump, load"
      ],
      "execution_count": null,
      "outputs": []
    },
    {
      "cell_type": "code",
      "metadata": {
        "id": "2nxV25SfK_77",
        "colab": {
          "base_uri": "https://localhost:8080/"
        },
        "outputId": "48826c1a-0043-4237-bc2c-15607aae26e5"
      },
      "source": [
        "!pip install emnist"
      ],
      "execution_count": null,
      "outputs": [
        {
          "output_type": "stream",
          "name": "stdout",
          "text": [
            "Requirement already satisfied: emnist in /usr/local/lib/python3.7/dist-packages (0.0)\n",
            "Requirement already satisfied: numpy in /usr/local/lib/python3.7/dist-packages (from emnist) (1.19.5)\n",
            "Requirement already satisfied: requests in /usr/local/lib/python3.7/dist-packages (from emnist) (2.23.0)\n",
            "Requirement already satisfied: tqdm in /usr/local/lib/python3.7/dist-packages (from emnist) (4.62.3)\n",
            "Requirement already satisfied: chardet<4,>=3.0.2 in /usr/local/lib/python3.7/dist-packages (from requests->emnist) (3.0.4)\n",
            "Requirement already satisfied: urllib3!=1.25.0,!=1.25.1,<1.26,>=1.21.1 in /usr/local/lib/python3.7/dist-packages (from requests->emnist) (1.24.3)\n",
            "Requirement already satisfied: idna<3,>=2.5 in /usr/local/lib/python3.7/dist-packages (from requests->emnist) (2.10)\n",
            "Requirement already satisfied: certifi>=2017.4.17 in /usr/local/lib/python3.7/dist-packages (from requests->emnist) (2021.10.8)\n"
          ]
        }
      ]
    },
    {
      "cell_type": "code",
      "metadata": {
        "id": "RwjKy2VSRw8h"
      },
      "source": [
        "from emnist import extract_training_samples, extract_test_samples"
      ],
      "execution_count": null,
      "outputs": []
    },
    {
      "cell_type": "code",
      "metadata": {
        "id": "YJZoLDjAR3o_"
      },
      "source": [
        "X_train, y_train = extract_training_samples('balanced')\n",
        "X_test, y_test = extract_test_samples('balanced')"
      ],
      "execution_count": null,
      "outputs": []
    },
    {
      "cell_type": "code",
      "metadata": {
        "id": "Pd1VKC9MR_hy"
      },
      "source": [
        "X_train = pd.DataFrame(X_train.reshape(-1,28*28))\n",
        "X_test = pd.DataFrame(X_test.reshape(-1,28*28))\n",
        "y_train = pd.Series(y_train)\n",
        "y_test = pd.Series(y_test)"
      ],
      "execution_count": null,
      "outputs": []
    },
    {
      "cell_type": "code",
      "metadata": {
        "id": "quLt_XkOQBe2"
      },
      "source": [
        "# X_train,X_val,y_train,y_val = train_test_split(X_train,y_train,test_size=0.1,random_state=101)"
      ],
      "execution_count": null,
      "outputs": []
    },
    {
      "cell_type": "code",
      "metadata": {
        "id": "SduEn2MISSKf"
      },
      "source": [
        "# Data Normalization [0, 1]\n",
        "X_train /= 255\n",
        "# X_val /= 255\n",
        "X_test /= 255\n",
        "\n",
        "# one-hot encoding for target column\n",
        "LB = LabelBinarizer()\n",
        "y_train = LB.fit_transform(y_train)\n",
        "# y_val = LB.fit_transform(y_val)\n",
        "y_test = LB.fit_transform(y_test)"
      ],
      "execution_count": null,
      "outputs": []
    },
    {
      "cell_type": "code",
      "metadata": {
        "id": "Egs2BzzPVEhf"
      },
      "source": [
        "X_train = np.array(X_train).reshape(-1,28,28,1)\n",
        "# X_val = np.array(X_val).reshape(-1,28,28,1)\n",
        "X_test = np.array(X_test).reshape(-1,28,28,1)\n",
        "\n",
        "y_train = np.array(y_train)\n",
        "# y_val = np.array(y_val)\n",
        "y_test = np.array(y_test)"
      ],
      "execution_count": null,
      "outputs": []
    },
    {
      "cell_type": "code",
      "metadata": {
        "id": "kgFFimi9WykH",
        "colab": {
          "base_uri": "https://localhost:8080/"
        },
        "outputId": "30a46fdc-01ad-4456-ede0-61f94e7471a0"
      },
      "source": [
        "# Number of objects\n",
        "print(X_train.shape, X_test.shape)\n",
        "print(y_train.shape, y_test.shape)"
      ],
      "execution_count": null,
      "outputs": [
        {
          "output_type": "stream",
          "name": "stdout",
          "text": [
            "(112800, 28, 28, 1) (18800, 28, 28, 1)\n",
            "(112800, 47) (18800, 47)\n"
          ]
        }
      ]
    },
    {
      "cell_type": "code",
      "metadata": {
        "id": "VS1ynRefumkc"
      },
      "source": [
        "def callbacks(): \n",
        "    return [ \n",
        "        EarlyStopping(monitor = 'loss', patience = 6), \n",
        "        ReduceLROnPlateau(monitor = 'loss', patience = 3), \n",
        "        ModelCheckpoint('best_model.hdf5', save_best_only=True)\n",
        "    ]"
      ],
      "execution_count": null,
      "outputs": []
    },
    {
      "cell_type": "code",
      "metadata": {
        "id": "Dp7mIMYcXyG2"
      },
      "source": [
        "model = Sequential([\n",
        "        Conv2D(32, kernel_size=(3, 3), activation='relu', padding='same', input_shape = (28,28,1)),\n",
        "        Conv2D(32, kernel_size=(3, 3), activation='relu', padding='same'),\n",
        "        BatchNormalization(),\n",
        "        MaxPooling2D(pool_size=(2, 2)),\n",
        "        Dropout(0.25),\n",
        "        \n",
        "        Conv2D(64, kernel_size=(3, 3), activation='relu', padding='same'),\n",
        "        Conv2D(64, kernel_size=(3, 3), activation='relu', padding='same' ),\n",
        "        BatchNormalization(),\n",
        "        MaxPooling2D(pool_size=(2, 2)),\n",
        "        Dropout(0.25),\n",
        "        \n",
        "        Conv2D(128, kernel_size=(3, 3), activation='relu', padding='same' ),\n",
        "        Conv2D(128, kernel_size=(3, 3), activation='relu', padding='same' ),\n",
        "        BatchNormalization(),\n",
        "        MaxPooling2D(pool_size=(2, 2)),\n",
        "        Dropout(0.25),\n",
        "        \n",
        "        \n",
        "        Flatten(),\n",
        "        Dense(512, activation='relu'),\n",
        "        BatchNormalization(),\n",
        "        Dropout(0.5),\n",
        "        \n",
        "        Dense(256, activation='relu'),\n",
        "        BatchNormalization(),\n",
        "        Dropout(0.4),\n",
        "        \n",
        "        Dense(64, activation='relu'),\n",
        "        BatchNormalization(),\n",
        "        Dropout(0.3),\n",
        "        \n",
        "        Dense(47, activation = \"softmax\")\n",
        "        \n",
        "    ])"
      ],
      "execution_count": null,
      "outputs": []
    },
    {
      "cell_type": "code",
      "metadata": {
        "id": "xJMq0QYkXzuG",
        "colab": {
          "base_uri": "https://localhost:8080/"
        },
        "outputId": "3b51c0e6-f62e-4a9a-96d3-11ec2cca027c"
      },
      "source": [
        "model.summary()"
      ],
      "execution_count": null,
      "outputs": [
        {
          "output_type": "stream",
          "name": "stdout",
          "text": [
            "Model: \"sequential_1\"\n",
            "_________________________________________________________________\n",
            " Layer (type)                Output Shape              Param #   \n",
            "=================================================================\n",
            " conv2d_6 (Conv2D)           (None, 28, 28, 32)        320       \n",
            "                                                                 \n",
            " conv2d_7 (Conv2D)           (None, 28, 28, 32)        9248      \n",
            "                                                                 \n",
            " batch_normalization_6 (Batc  (None, 28, 28, 32)       128       \n",
            " hNormalization)                                                 \n",
            "                                                                 \n",
            " max_pooling2d_3 (MaxPooling  (None, 14, 14, 32)       0         \n",
            " 2D)                                                             \n",
            "                                                                 \n",
            " dropout_6 (Dropout)         (None, 14, 14, 32)        0         \n",
            "                                                                 \n",
            " conv2d_8 (Conv2D)           (None, 14, 14, 64)        18496     \n",
            "                                                                 \n",
            " conv2d_9 (Conv2D)           (None, 14, 14, 64)        36928     \n",
            "                                                                 \n",
            " batch_normalization_7 (Batc  (None, 14, 14, 64)       256       \n",
            " hNormalization)                                                 \n",
            "                                                                 \n",
            " max_pooling2d_4 (MaxPooling  (None, 7, 7, 64)         0         \n",
            " 2D)                                                             \n",
            "                                                                 \n",
            " dropout_7 (Dropout)         (None, 7, 7, 64)          0         \n",
            "                                                                 \n",
            " conv2d_10 (Conv2D)          (None, 7, 7, 128)         73856     \n",
            "                                                                 \n",
            " conv2d_11 (Conv2D)          (None, 7, 7, 128)         147584    \n",
            "                                                                 \n",
            " batch_normalization_8 (Batc  (None, 7, 7, 128)        512       \n",
            " hNormalization)                                                 \n",
            "                                                                 \n",
            " max_pooling2d_5 (MaxPooling  (None, 3, 3, 128)        0         \n",
            " 2D)                                                             \n",
            "                                                                 \n",
            " dropout_8 (Dropout)         (None, 3, 3, 128)         0         \n",
            "                                                                 \n",
            " flatten_1 (Flatten)         (None, 1152)              0         \n",
            "                                                                 \n",
            " dense_4 (Dense)             (None, 512)               590336    \n",
            "                                                                 \n",
            " batch_normalization_9 (Batc  (None, 512)              2048      \n",
            " hNormalization)                                                 \n",
            "                                                                 \n",
            " dropout_9 (Dropout)         (None, 512)               0         \n",
            "                                                                 \n",
            " dense_5 (Dense)             (None, 256)               131328    \n",
            "                                                                 \n",
            " batch_normalization_10 (Bat  (None, 256)              1024      \n",
            " chNormalization)                                                \n",
            "                                                                 \n",
            " dropout_10 (Dropout)        (None, 256)               0         \n",
            "                                                                 \n",
            " dense_6 (Dense)             (None, 64)                16448     \n",
            "                                                                 \n",
            " batch_normalization_11 (Bat  (None, 64)               256       \n",
            " chNormalization)                                                \n",
            "                                                                 \n",
            " dropout_11 (Dropout)        (None, 64)                0         \n",
            "                                                                 \n",
            " dense_7 (Dense)             (None, 47)                3055      \n",
            "                                                                 \n",
            "=================================================================\n",
            "Total params: 1,031,823\n",
            "Trainable params: 1,029,711\n",
            "Non-trainable params: 2,112\n",
            "_________________________________________________________________\n"
          ]
        }
      ]
    },
    {
      "cell_type": "code",
      "metadata": {
        "id": "ExO9NgMuX1x2"
      },
      "source": [
        "model.compile(loss='categorical_crossentropy', optimizer=\"adam\",metrics=['accuracy'])"
      ],
      "execution_count": null,
      "outputs": []
    },
    {
      "cell_type": "code",
      "metadata": {
        "id": "-ceo3_DVX4qO",
        "colab": {
          "base_uri": "https://localhost:8080/"
        },
        "outputId": "37b30e99-2d1b-4ccf-9848-c9b999e0c6a4"
      },
      "source": [
        "history = model.fit(X_train,y_train, epochs=100, batch_size=64, validation_data = (X_test, y_test),  verbose=1, callbacks = callbacks())"
      ],
      "execution_count": null,
      "outputs": [
        {
          "output_type": "stream",
          "name": "stdout",
          "text": [
            "Epoch 1/100\n",
            "1763/1763 [==============================] - 40s 22ms/step - loss: 1.1458 - accuracy: 0.6593 - val_loss: 0.4531 - val_accuracy: 0.8475 - lr: 0.0010\n",
            "Epoch 2/100\n",
            "1763/1763 [==============================] - 36s 21ms/step - loss: 0.5310 - accuracy: 0.8214 - val_loss: 0.3911 - val_accuracy: 0.8654 - lr: 0.0010\n",
            "Epoch 3/100\n",
            "1763/1763 [==============================] - 36s 21ms/step - loss: 0.4576 - accuracy: 0.8449 - val_loss: 0.3603 - val_accuracy: 0.8724 - lr: 0.0010\n",
            "Epoch 4/100\n",
            "1763/1763 [==============================] - 36s 20ms/step - loss: 0.4216 - accuracy: 0.8562 - val_loss: 0.3458 - val_accuracy: 0.8788 - lr: 0.0010\n",
            "Epoch 5/100\n",
            "1763/1763 [==============================] - 36s 21ms/step - loss: 0.3972 - accuracy: 0.8631 - val_loss: 0.3381 - val_accuracy: 0.8827 - lr: 0.0010\n",
            "Epoch 6/100\n",
            "1763/1763 [==============================] - 36s 21ms/step - loss: 0.3761 - accuracy: 0.8700 - val_loss: 0.3221 - val_accuracy: 0.8857 - lr: 0.0010\n",
            "Epoch 7/100\n",
            "1763/1763 [==============================] - 36s 20ms/step - loss: 0.3628 - accuracy: 0.8730 - val_loss: 0.3238 - val_accuracy: 0.8860 - lr: 0.0010\n",
            "Epoch 8/100\n",
            "1763/1763 [==============================] - 36s 21ms/step - loss: 0.3503 - accuracy: 0.8769 - val_loss: 0.3099 - val_accuracy: 0.8923 - lr: 0.0010\n",
            "Epoch 9/100\n",
            "1763/1763 [==============================] - 36s 21ms/step - loss: 0.3357 - accuracy: 0.8811 - val_loss: 0.3059 - val_accuracy: 0.8930 - lr: 0.0010\n",
            "Epoch 10/100\n",
            "1763/1763 [==============================] - 36s 21ms/step - loss: 0.3304 - accuracy: 0.8827 - val_loss: 0.3059 - val_accuracy: 0.8913 - lr: 0.0010\n",
            "Epoch 11/100\n",
            "1763/1763 [==============================] - 36s 21ms/step - loss: 0.3200 - accuracy: 0.8856 - val_loss: 0.2999 - val_accuracy: 0.8959 - lr: 0.0010\n",
            "Epoch 12/100\n",
            "1763/1763 [==============================] - 36s 21ms/step - loss: 0.3139 - accuracy: 0.8886 - val_loss: 0.2960 - val_accuracy: 0.8954 - lr: 0.0010\n",
            "Epoch 13/100\n",
            "1763/1763 [==============================] - 36s 21ms/step - loss: 0.3089 - accuracy: 0.8898 - val_loss: 0.3031 - val_accuracy: 0.8939 - lr: 0.0010\n",
            "Epoch 14/100\n",
            "1763/1763 [==============================] - 37s 21ms/step - loss: 0.2985 - accuracy: 0.8927 - val_loss: 0.2957 - val_accuracy: 0.8978 - lr: 0.0010\n",
            "Epoch 15/100\n",
            "1763/1763 [==============================] - 36s 21ms/step - loss: 0.2954 - accuracy: 0.8937 - val_loss: 0.3047 - val_accuracy: 0.8982 - lr: 0.0010\n",
            "Epoch 16/100\n",
            "1763/1763 [==============================] - 37s 21ms/step - loss: 0.2913 - accuracy: 0.8951 - val_loss: 0.2896 - val_accuracy: 0.8981 - lr: 0.0010\n",
            "Epoch 17/100\n",
            "1763/1763 [==============================] - 37s 21ms/step - loss: 0.2860 - accuracy: 0.8962 - val_loss: 0.2895 - val_accuracy: 0.9010 - lr: 0.0010\n",
            "Epoch 18/100\n",
            "1763/1763 [==============================] - 37s 21ms/step - loss: 0.2828 - accuracy: 0.8965 - val_loss: 0.2894 - val_accuracy: 0.8999 - lr: 0.0010\n",
            "Epoch 19/100\n",
            "1763/1763 [==============================] - 36s 21ms/step - loss: 0.2776 - accuracy: 0.8992 - val_loss: 0.2920 - val_accuracy: 0.8998 - lr: 0.0010\n",
            "Epoch 20/100\n",
            "1763/1763 [==============================] - 37s 21ms/step - loss: 0.2722 - accuracy: 0.9016 - val_loss: 0.2889 - val_accuracy: 0.8999 - lr: 0.0010\n",
            "Epoch 21/100\n",
            "1763/1763 [==============================] - 37s 21ms/step - loss: 0.2706 - accuracy: 0.9008 - val_loss: 0.2928 - val_accuracy: 0.9021 - lr: 0.0010\n",
            "Epoch 22/100\n",
            "1763/1763 [==============================] - 37s 21ms/step - loss: 0.2660 - accuracy: 0.9027 - val_loss: 0.2939 - val_accuracy: 0.9007 - lr: 0.0010\n",
            "Epoch 23/100\n",
            "1763/1763 [==============================] - 36s 21ms/step - loss: 0.2637 - accuracy: 0.9030 - val_loss: 0.2899 - val_accuracy: 0.9023 - lr: 0.0010\n",
            "Epoch 24/100\n",
            "1763/1763 [==============================] - 37s 21ms/step - loss: 0.2573 - accuracy: 0.9048 - val_loss: 0.2927 - val_accuracy: 0.9018 - lr: 0.0010\n",
            "Epoch 25/100\n",
            "1763/1763 [==============================] - 37s 21ms/step - loss: 0.2577 - accuracy: 0.9055 - val_loss: 0.2920 - val_accuracy: 0.9012 - lr: 0.0010\n",
            "Epoch 26/100\n",
            "1763/1763 [==============================] - 37s 21ms/step - loss: 0.2565 - accuracy: 0.9056 - val_loss: 0.2934 - val_accuracy: 0.9009 - lr: 0.0010\n",
            "Epoch 27/100\n",
            "1763/1763 [==============================] - 37s 21ms/step - loss: 0.2529 - accuracy: 0.9065 - val_loss: 0.2929 - val_accuracy: 0.9016 - lr: 0.0010\n",
            "Epoch 28/100\n",
            "1763/1763 [==============================] - 36s 21ms/step - loss: 0.2473 - accuracy: 0.9081 - val_loss: 0.3017 - val_accuracy: 0.9028 - lr: 0.0010\n",
            "Epoch 29/100\n",
            "1763/1763 [==============================] - 36s 20ms/step - loss: 0.2481 - accuracy: 0.9081 - val_loss: 0.2961 - val_accuracy: 0.9020 - lr: 0.0010\n",
            "Epoch 30/100\n",
            "1763/1763 [==============================] - 36s 20ms/step - loss: 0.2455 - accuracy: 0.9090 - val_loss: 0.2923 - val_accuracy: 0.9011 - lr: 0.0010\n",
            "Epoch 31/100\n",
            "1763/1763 [==============================] - 37s 21ms/step - loss: 0.2415 - accuracy: 0.9109 - val_loss: 0.2962 - val_accuracy: 0.9030 - lr: 0.0010\n",
            "Epoch 32/100\n",
            "1763/1763 [==============================] - 36s 21ms/step - loss: 0.2406 - accuracy: 0.9101 - val_loss: 0.2966 - val_accuracy: 0.9039 - lr: 0.0010\n",
            "Epoch 33/100\n",
            "1763/1763 [==============================] - 37s 21ms/step - loss: 0.2391 - accuracy: 0.9113 - val_loss: 0.2902 - val_accuracy: 0.9024 - lr: 0.0010\n",
            "Epoch 34/100\n",
            "1763/1763 [==============================] - 36s 21ms/step - loss: 0.2362 - accuracy: 0.9116 - val_loss: 0.3032 - val_accuracy: 0.9018 - lr: 0.0010\n",
            "Epoch 35/100\n",
            "1763/1763 [==============================] - 36s 21ms/step - loss: 0.2332 - accuracy: 0.9129 - val_loss: 0.3024 - val_accuracy: 0.9012 - lr: 0.0010\n",
            "Epoch 36/100\n",
            "1763/1763 [==============================] - 36s 20ms/step - loss: 0.2335 - accuracy: 0.9127 - val_loss: 0.3021 - val_accuracy: 0.9027 - lr: 0.0010\n",
            "Epoch 37/100\n",
            "1763/1763 [==============================] - 36s 20ms/step - loss: 0.2298 - accuracy: 0.9142 - val_loss: 0.3028 - val_accuracy: 0.9032 - lr: 0.0010\n",
            "Epoch 38/100\n",
            "1763/1763 [==============================] - 36s 20ms/step - loss: 0.2276 - accuracy: 0.9143 - val_loss: 0.3000 - val_accuracy: 0.9005 - lr: 0.0010\n",
            "Epoch 39/100\n",
            "1763/1763 [==============================] - 36s 20ms/step - loss: 0.2266 - accuracy: 0.9155 - val_loss: 0.3044 - val_accuracy: 0.9023 - lr: 0.0010\n",
            "Epoch 40/100\n",
            "1763/1763 [==============================] - 36s 20ms/step - loss: 0.2258 - accuracy: 0.9149 - val_loss: 0.3050 - val_accuracy: 0.9020 - lr: 0.0010\n",
            "Epoch 41/100\n",
            "1763/1763 [==============================] - 36s 20ms/step - loss: 0.2234 - accuracy: 0.9157 - val_loss: 0.3006 - val_accuracy: 0.9049 - lr: 0.0010\n",
            "Epoch 42/100\n",
            "1763/1763 [==============================] - 36s 20ms/step - loss: 0.2210 - accuracy: 0.9163 - val_loss: 0.3023 - val_accuracy: 0.9026 - lr: 0.0010\n",
            "Epoch 43/100\n",
            "1763/1763 [==============================] - 37s 21ms/step - loss: 0.2200 - accuracy: 0.9164 - val_loss: 0.3048 - val_accuracy: 0.9019 - lr: 0.0010\n",
            "Epoch 44/100\n",
            "1763/1763 [==============================] - 37s 21ms/step - loss: 0.2180 - accuracy: 0.9177 - val_loss: 0.3018 - val_accuracy: 0.9040 - lr: 0.0010\n",
            "Epoch 45/100\n",
            "1763/1763 [==============================] - 37s 21ms/step - loss: 0.2191 - accuracy: 0.9180 - val_loss: 0.3064 - val_accuracy: 0.9028 - lr: 0.0010\n",
            "Epoch 46/100\n",
            "1763/1763 [==============================] - 37s 21ms/step - loss: 0.2164 - accuracy: 0.9187 - val_loss: 0.3041 - val_accuracy: 0.9040 - lr: 0.0010\n",
            "Epoch 47/100\n",
            "1763/1763 [==============================] - 37s 21ms/step - loss: 0.2136 - accuracy: 0.9189 - val_loss: 0.3048 - val_accuracy: 0.9034 - lr: 0.0010\n",
            "Epoch 48/100\n",
            "1763/1763 [==============================] - 37s 21ms/step - loss: 0.2133 - accuracy: 0.9199 - val_loss: 0.3037 - val_accuracy: 0.9026 - lr: 0.0010\n",
            "Epoch 49/100\n",
            "1763/1763 [==============================] - 37s 21ms/step - loss: 0.2090 - accuracy: 0.9205 - val_loss: 0.3101 - val_accuracy: 0.9039 - lr: 0.0010\n",
            "Epoch 50/100\n",
            "1763/1763 [==============================] - 37s 21ms/step - loss: 0.2114 - accuracy: 0.9192 - val_loss: 0.3072 - val_accuracy: 0.9038 - lr: 0.0010\n",
            "Epoch 51/100\n",
            "1763/1763 [==============================] - 37s 21ms/step - loss: 0.2091 - accuracy: 0.9200 - val_loss: 0.3024 - val_accuracy: 0.9040 - lr: 0.0010\n",
            "Epoch 52/100\n",
            "1763/1763 [==============================] - 37s 21ms/step - loss: 0.2064 - accuracy: 0.9208 - val_loss: 0.3101 - val_accuracy: 0.9035 - lr: 0.0010\n",
            "Epoch 53/100\n",
            "1763/1763 [==============================] - 37s 21ms/step - loss: 0.2058 - accuracy: 0.9222 - val_loss: 0.3105 - val_accuracy: 0.9044 - lr: 0.0010\n",
            "Epoch 54/100\n",
            "1763/1763 [==============================] - 37s 21ms/step - loss: 0.2067 - accuracy: 0.9213 - val_loss: 0.3120 - val_accuracy: 0.9034 - lr: 0.0010\n",
            "Epoch 55/100\n",
            "1763/1763 [==============================] - 37s 21ms/step - loss: 0.2042 - accuracy: 0.9217 - val_loss: 0.3088 - val_accuracy: 0.9054 - lr: 0.0010\n",
            "Epoch 56/100\n",
            "1763/1763 [==============================] - 37s 21ms/step - loss: 0.2025 - accuracy: 0.9232 - val_loss: 0.3146 - val_accuracy: 0.9039 - lr: 0.0010\n",
            "Epoch 57/100\n",
            "1763/1763 [==============================] - 37s 21ms/step - loss: 0.2017 - accuracy: 0.9230 - val_loss: 0.3155 - val_accuracy: 0.9028 - lr: 0.0010\n",
            "Epoch 58/100\n",
            "1763/1763 [==============================] - 37s 21ms/step - loss: 0.2016 - accuracy: 0.9227 - val_loss: 0.3142 - val_accuracy: 0.9034 - lr: 0.0010\n",
            "Epoch 59/100\n",
            "1763/1763 [==============================] - 37s 21ms/step - loss: 0.1979 - accuracy: 0.9238 - val_loss: 0.3127 - val_accuracy: 0.9052 - lr: 0.0010\n",
            "Epoch 60/100\n",
            "1763/1763 [==============================] - 37s 21ms/step - loss: 0.1959 - accuracy: 0.9239 - val_loss: 0.3194 - val_accuracy: 0.9026 - lr: 0.0010\n",
            "Epoch 61/100\n",
            "1763/1763 [==============================] - 37s 21ms/step - loss: 0.1954 - accuracy: 0.9249 - val_loss: 0.3227 - val_accuracy: 0.9030 - lr: 0.0010\n",
            "Epoch 62/100\n",
            "1763/1763 [==============================] - 37s 21ms/step - loss: 0.1946 - accuracy: 0.9247 - val_loss: 0.3190 - val_accuracy: 0.9032 - lr: 0.0010\n",
            "Epoch 63/100\n",
            "1763/1763 [==============================] - 37s 21ms/step - loss: 0.1926 - accuracy: 0.9260 - val_loss: 0.3213 - val_accuracy: 0.9016 - lr: 0.0010\n",
            "Epoch 64/100\n",
            "1763/1763 [==============================] - 37s 21ms/step - loss: 0.1936 - accuracy: 0.9263 - val_loss: 0.3199 - val_accuracy: 0.9018 - lr: 0.0010\n",
            "Epoch 65/100\n",
            "1763/1763 [==============================] - 37s 21ms/step - loss: 0.1923 - accuracy: 0.9254 - val_loss: 0.3199 - val_accuracy: 0.9036 - lr: 0.0010\n",
            "Epoch 66/100\n",
            "1763/1763 [==============================] - 37s 21ms/step - loss: 0.1919 - accuracy: 0.9262 - val_loss: 0.3189 - val_accuracy: 0.9026 - lr: 0.0010\n",
            "Epoch 67/100\n",
            "1763/1763 [==============================] - 37s 21ms/step - loss: 0.1885 - accuracy: 0.9280 - val_loss: 0.3194 - val_accuracy: 0.9040 - lr: 0.0010\n",
            "Epoch 68/100\n",
            "1763/1763 [==============================] - 37s 21ms/step - loss: 0.1904 - accuracy: 0.9267 - val_loss: 0.3243 - val_accuracy: 0.9024 - lr: 0.0010\n",
            "Epoch 69/100\n",
            "1763/1763 [==============================] - 36s 21ms/step - loss: 0.1882 - accuracy: 0.9281 - val_loss: 0.3217 - val_accuracy: 0.9022 - lr: 0.0010\n",
            "Epoch 70/100\n",
            "1763/1763 [==============================] - 36s 21ms/step - loss: 0.1868 - accuracy: 0.9284 - val_loss: 0.3253 - val_accuracy: 0.9036 - lr: 0.0010\n",
            "Epoch 71/100\n",
            "1763/1763 [==============================] - 37s 21ms/step - loss: 0.1871 - accuracy: 0.9276 - val_loss: 0.3244 - val_accuracy: 0.9037 - lr: 0.0010\n",
            "Epoch 72/100\n",
            "1763/1763 [==============================] - 37s 21ms/step - loss: 0.1854 - accuracy: 0.9288 - val_loss: 0.3341 - val_accuracy: 0.9040 - lr: 0.0010\n",
            "Epoch 73/100\n",
            "1763/1763 [==============================] - 37s 21ms/step - loss: 0.1836 - accuracy: 0.9286 - val_loss: 0.3247 - val_accuracy: 0.9053 - lr: 0.0010\n",
            "Epoch 74/100\n",
            "1763/1763 [==============================] - 37s 21ms/step - loss: 0.1809 - accuracy: 0.9300 - val_loss: 0.3356 - val_accuracy: 0.9019 - lr: 0.0010\n",
            "Epoch 75/100\n",
            "1763/1763 [==============================] - 36s 21ms/step - loss: 0.1836 - accuracy: 0.9294 - val_loss: 0.3342 - val_accuracy: 0.9036 - lr: 0.0010\n",
            "Epoch 76/100\n",
            "1763/1763 [==============================] - 36s 21ms/step - loss: 0.1815 - accuracy: 0.9299 - val_loss: 0.3308 - val_accuracy: 0.9040 - lr: 0.0010\n",
            "Epoch 77/100\n",
            "1763/1763 [==============================] - 37s 21ms/step - loss: 0.1799 - accuracy: 0.9299 - val_loss: 0.3277 - val_accuracy: 0.9044 - lr: 0.0010\n",
            "Epoch 78/100\n",
            "1763/1763 [==============================] - 37s 21ms/step - loss: 0.1802 - accuracy: 0.9303 - val_loss: 0.3316 - val_accuracy: 0.9011 - lr: 0.0010\n",
            "Epoch 79/100\n",
            "1763/1763 [==============================] - 37s 21ms/step - loss: 0.1787 - accuracy: 0.9305 - val_loss: 0.3377 - val_accuracy: 0.9014 - lr: 0.0010\n",
            "Epoch 80/100\n",
            "1763/1763 [==============================] - 37s 21ms/step - loss: 0.1774 - accuracy: 0.9312 - val_loss: 0.3397 - val_accuracy: 0.9024 - lr: 0.0010\n",
            "Epoch 81/100\n",
            "1763/1763 [==============================] - 37s 21ms/step - loss: 0.1813 - accuracy: 0.9300 - val_loss: 0.3309 - val_accuracy: 0.9022 - lr: 0.0010\n",
            "Epoch 82/100\n",
            "1763/1763 [==============================] - 36s 21ms/step - loss: 0.1767 - accuracy: 0.9317 - val_loss: 0.3351 - val_accuracy: 0.9013 - lr: 0.0010\n",
            "Epoch 83/100\n",
            "1763/1763 [==============================] - 36s 21ms/step - loss: 0.1756 - accuracy: 0.9317 - val_loss: 0.3385 - val_accuracy: 0.9018 - lr: 0.0010\n",
            "Epoch 84/100\n",
            "1763/1763 [==============================] - 36s 21ms/step - loss: 0.1764 - accuracy: 0.9312 - val_loss: 0.3377 - val_accuracy: 0.9028 - lr: 0.0010\n",
            "Epoch 85/100\n",
            "1763/1763 [==============================] - 37s 21ms/step - loss: 0.1734 - accuracy: 0.9334 - val_loss: 0.3436 - val_accuracy: 0.9023 - lr: 0.0010\n",
            "Epoch 86/100\n",
            "1763/1763 [==============================] - 37s 21ms/step - loss: 0.1710 - accuracy: 0.9333 - val_loss: 0.3446 - val_accuracy: 0.9029 - lr: 0.0010\n",
            "Epoch 87/100\n",
            "1763/1763 [==============================] - 37s 21ms/step - loss: 0.1716 - accuracy: 0.9333 - val_loss: 0.3428 - val_accuracy: 0.9036 - lr: 0.0010\n",
            "Epoch 88/100\n",
            "1763/1763 [==============================] - 37s 21ms/step - loss: 0.1700 - accuracy: 0.9334 - val_loss: 0.3488 - val_accuracy: 0.9016 - lr: 0.0010\n",
            "Epoch 89/100\n",
            "1763/1763 [==============================] - 37s 21ms/step - loss: 0.1708 - accuracy: 0.9340 - val_loss: 0.3388 - val_accuracy: 0.9021 - lr: 0.0010\n",
            "Epoch 90/100\n",
            "1763/1763 [==============================] - 37s 21ms/step - loss: 0.1699 - accuracy: 0.9342 - val_loss: 0.3459 - val_accuracy: 0.9023 - lr: 0.0010\n",
            "Epoch 91/100\n",
            "1763/1763 [==============================] - 37s 21ms/step - loss: 0.1691 - accuracy: 0.9341 - val_loss: 0.3489 - val_accuracy: 0.9026 - lr: 0.0010\n",
            "Epoch 92/100\n",
            "1763/1763 [==============================] - 37s 21ms/step - loss: 0.1694 - accuracy: 0.9346 - val_loss: 0.3473 - val_accuracy: 0.9026 - lr: 0.0010\n",
            "Epoch 93/100\n",
            "1763/1763 [==============================] - 36s 21ms/step - loss: 0.1661 - accuracy: 0.9354 - val_loss: 0.3463 - val_accuracy: 0.9015 - lr: 0.0010\n",
            "Epoch 94/100\n",
            "1763/1763 [==============================] - 36s 21ms/step - loss: 0.1670 - accuracy: 0.9351 - val_loss: 0.3419 - val_accuracy: 0.9021 - lr: 0.0010\n",
            "Epoch 95/100\n",
            "1763/1763 [==============================] - 36s 21ms/step - loss: 0.1687 - accuracy: 0.9349 - val_loss: 0.3464 - val_accuracy: 0.9005 - lr: 0.0010\n",
            "Epoch 96/100\n",
            "1763/1763 [==============================] - 36s 20ms/step - loss: 0.1666 - accuracy: 0.9349 - val_loss: 0.3435 - val_accuracy: 0.9026 - lr: 0.0010\n",
            "Epoch 97/100\n",
            "1763/1763 [==============================] - 36s 21ms/step - loss: 0.1553 - accuracy: 0.9393 - val_loss: 0.3420 - val_accuracy: 0.9035 - lr: 1.0000e-04\n",
            "Epoch 98/100\n",
            "1763/1763 [==============================] - 36s 21ms/step - loss: 0.1494 - accuracy: 0.9413 - val_loss: 0.3450 - val_accuracy: 0.9042 - lr: 1.0000e-04\n",
            "Epoch 99/100\n",
            "1763/1763 [==============================] - 36s 21ms/step - loss: 0.1474 - accuracy: 0.9420 - val_loss: 0.3482 - val_accuracy: 0.9038 - lr: 1.0000e-04\n",
            "Epoch 100/100\n",
            "1763/1763 [==============================] - 36s 21ms/step - loss: 0.1478 - accuracy: 0.9422 - val_loss: 0.3496 - val_accuracy: 0.9041 - lr: 1.0000e-04\n"
          ]
        }
      ]
    },
    {
      "cell_type": "code",
      "metadata": {
        "id": "KUNdt2C0YAIu",
        "colab": {
          "base_uri": "https://localhost:8080/",
          "height": 295
        },
        "outputId": "657d05c5-31ab-4c99-e746-91b7d328e38e"
      },
      "source": [
        "plt.plot(history.history['accuracy'])\n",
        "plt.plot(history.history['val_accuracy'])\n",
        "plt.title('Training Accuracy vs Validation Accuracy')\n",
        "plt.ylabel('Accuracy')\n",
        "plt.xlabel('Epoch')\n",
        "plt.legend(['Train', 'Validation'], loc='upper left')\n",
        "plt.show()"
      ],
      "execution_count": null,
      "outputs": [
        {
          "output_type": "display_data",
          "data": {
            "image/png": "[encoded data removed]",
            "text/plain": [
              "<Figure size 432x288 with 1 Axes>"
            ]
          },
          "metadata": {
            "needs_background": "light"
          }
        }
      ]
    },
    {
      "cell_type": "code",
      "metadata": {
        "id": "vH_WmDmO8oBl",
        "colab": {
          "base_uri": "https://localhost:8080/",
          "height": 295
        },
        "outputId": "7cb40152-8a05-422d-fd6b-1a24d8972a8e"
      },
      "source": [
        "plt.plot(history.history['loss'])\n",
        "plt.plot(history.history['val_loss'])\n",
        "plt.title('Training Loss vs Validation Loss')\n",
        "plt.ylabel('Loss')\n",
        "plt.xlabel('Epoch')\n",
        "plt.legend(['Train', 'Validation'], loc='upper left')\n",
        "plt.show()"
      ],
      "execution_count": null,
      "outputs": [
        {
          "output_type": "display_data",
          "data": {
            "image/png": "[encoded data removed]",
            "text/plain": [
              "<Figure size 432x288 with 1 Axes>"
            ]
          },
          "metadata": {
            "needs_background": "light"
          }
        }
      ]
    },
    {
      "cell_type": "code",
      "metadata": {
        "id": "aKJSgiyawDUR"
      },
      "source": [
        "model = load_model('best_model.hdf5')"
      ],
      "execution_count": null,
      "outputs": []
    },
    {
      "cell_type": "code",
      "metadata": {
        "id": "44pNLQojcPne",
        "colab": {
          "base_uri": "https://localhost:8080/"
        },
        "outputId": "6c05eff5-0377-44b4-a2f7-32c29bf2c108"
      },
      "source": [
        " score = model.evaluate(X_test, y_test, verbose=0)\n",
        "print('Test loss:', score[0])\n",
        "print('Test score:', score[1])\n",
        "\n",
        "print(\"CNN Error: %.2f%%\" % (100-score[1]*100))"
      ],
      "execution_count": null,
      "outputs": [
        {
          "output_type": "stream",
          "name": "stdout",
          "text": [
            "Test loss: 0.28894057869911194\n",
            "Test score: 0.8999468088150024\n",
            "CNN Error: 10.01%\n"
          ]
        }
      ]
    },
    {
      "cell_type": "code",
      "metadata": {
        "id": "sKy_Bz0FBSr7"
      },
      "source": [
        "model.save(\"character_recog_model.hdf5\")"
      ],
      "execution_count": null,
      "outputs": []
    },
    {
      "cell_type": "code",
      "metadata": {
        "id": "j-x0cS5gHzua",
        "colab": {
          "base_uri": "https://localhost:8080/"
        },
        "outputId": "11d9bbe9-73c9-46da-bbaf-43f95b9b8192"
      },
      "source": [
        "dump(LB,'Label_Binarizer.joblib')"
      ],
      "execution_count": null,
      "outputs": [
        {
          "output_type": "execute_result",
          "data": {
            "text/plain": [
              "['Label_Binarizer.joblib']"
            ]
          },
          "metadata": {},
          "execution_count": 35
        }
      ]
    },
    {
      "cell_type": "code",
      "metadata": {
        "id": "-XI7Ne9rDkbN",
        "colab": {
          "base_uri": "https://localhost:8080/",
          "height": 34
        },
        "outputId": "097f690b-3d9a-49bd-bce3-398bb75456be"
      },
      "source": [
        "files.download('character_recog_model.hdf5')\n",
        "files.download('Label_Binarizer.joblib')"
      ],
      "execution_count": null,
      "outputs": [
        {
          "output_type": "display_data",
          "data": {
            "application/javascript": [
              "\n",
              "    async function download(id, filename, size) {\n",
              "      if (!google.colab.kernel.accessAllowed) {\n",
              "        return;\n",
              "      }\n",
              "      const div = document.createElement('div');\n",
              "      const label = document.createElement('label');\n",
              "      label.textContent = `Downloading \"${filename}\": `;\n",
              "      div.appendChild(label);\n",
              "      const progress = document.createElement('progress');\n",
              "      progress.max = size;\n",
              "      div.appendChild(progress);\n",
              "      document.body.appendChild(div);\n",
              "\n",
              "      const buffers = [];\n",
              "      let downloaded = 0;\n",
              "\n",
              "      const channel = await google.colab.kernel.comms.open(id);\n",
              "      // Send a message to notify the kernel that we're ready.\n",
              "      channel.send({})\n",
              "\n",
              "      for await (const message of channel.messages) {\n",
              "        // Send a message to notify the kernel that we're ready.\n",
              "        channel.send({})\n",
              "        if (message.buffers) {\n",
              "          for (const buffer of message.buffers) {\n",
              "            buffers.push(buffer);\n",
              "            downloaded += buffer.byteLength;\n",
              "            progress.value = downloaded;\n",
              "          }\n",
              "        }\n",
              "      }\n",
              "      const blob = new Blob(buffers, {type: 'application/binary'});\n",
              "      const a = document.createElement('a');\n",
              "      a.href = window.URL.createObjectURL(blob);\n",
              "      a.download = filename;\n",
              "      div.appendChild(a);\n",
              "      a.click();\n",
              "      div.remove();\n",
              "    }\n",
              "  "
            ],
            "text/plain": [
              "<IPython.core.display.Javascript object>"
            ]
          },
          "metadata": {}
        },
        {
          "output_type": "display_data",
          "data": {
            "application/javascript": [
              "download(\"download_5d878282-2808-492b-bcae-d8369b8d2fde\", \"character_recog_model.hdf5\", 12521340)"
            ],
            "text/plain": [
              "<IPython.core.display.Javascript object>"
            ]
          },
          "metadata": {}
        },
        {
          "output_type": "display_data",
          "data": {
            "application/javascript": [
              "\n",
              "    async function download(id, filename, size) {\n",
              "      if (!google.colab.kernel.accessAllowed) {\n",
              "        return;\n",
              "      }\n",
              "      const div = document.createElement('div');\n",
              "      const label = document.createElement('label');\n",
              "      label.textContent = `Downloading \"${filename}\": `;\n",
              "      div.appendChild(label);\n",
              "      const progress = document.createElement('progress');\n",
              "      progress.max = size;\n",
              "      div.appendChild(progress);\n",
              "      document.body.appendChild(div);\n",
              "\n",
              "      const buffers = [];\n",
              "      let downloaded = 0;\n",
              "\n",
              "      const channel = await google.colab.kernel.comms.open(id);\n",
              "      // Send a message to notify the kernel that we're ready.\n",
              "      channel.send({})\n",
              "\n",
              "      for await (const message of channel.messages) {\n",
              "        // Send a message to notify the kernel that we're ready.\n",
              "        channel.send({})\n",
              "        if (message.buffers) {\n",
              "          for (const buffer of message.buffers) {\n",
              "            buffers.push(buffer);\n",
              "            downloaded += buffer.byteLength;\n",
              "            progress.value = downloaded;\n",
              "          }\n",
              "        }\n",
              "      }\n",
              "      const blob = new Blob(buffers, {type: 'application/binary'});\n",
              "      const a = document.createElement('a');\n",
              "      a.href = window.URL.createObjectURL(blob);\n",
              "      a.download = filename;\n",
              "      div.appendChild(a);\n",
              "      a.click();\n",
              "      div.remove();\n",
              "    }\n",
              "  "
            ],
            "text/plain": [
              "<IPython.core.display.Javascript object>"
            ]
          },
          "metadata": {}
        },
        {
          "output_type": "display_data",
          "data": {
            "application/javascript": [
              "download(\"download_f5b93c04-7305-44fd-8daf-76843829214e\", \"Label_Binarizer.joblib\", 478)"
            ],
            "text/plain": [
              "<IPython.core.display.Javascript object>"
            ]
          },
          "metadata": {}
        }
      ]
    }
  ]
}